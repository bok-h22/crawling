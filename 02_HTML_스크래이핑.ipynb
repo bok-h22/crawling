{
  "nbformat": 4,
  "nbformat_minor": 0,
  "metadata": {
    "colab": {
      "provenance": [],
      "include_colab_link": true
    },
    "kernelspec": {
      "name": "python3",
      "display_name": "Python 3"
    },
    "language_info": {
      "name": "python"
    }
  },
  "cells": [
    {
      "cell_type": "markdown",
      "metadata": {
        "id": "view-in-github",
        "colab_type": "text"
      },
      "source": [
        "<a href=\"https://colab.research.google.com/github/bok-h22/crawling/blob/master/02_HTML_%EC%8A%A4%ED%81%AC%EB%9E%98%EC%9D%B4%ED%95%91.ipynb\" target=\"_parent\"><img src=\"https://colab.research.google.com/assets/colab-badge.svg\" alt=\"Open In Colab\"/></a>"
      ]
    },
    {
      "cell_type": "code",
      "execution_count": null,
      "metadata": {
        "id": "jziv9Y8Z_5LU"
      },
      "outputs": [],
      "source": [
        "html_str = \"\"\"\n",
        "<html>\n",
        "  <head>\n",
        "    <title>안녕하세요</title>\n",
        "  </head>\n",
        "  <body>\n",
        "    <div id=\"container\">\n",
        "      <p class='p1'>hello</p>\n",
        "      <p>Bye</p>\n",
        "    </div>\n",
        "  </body>\n",
        "</html>\"\"\""
      ]
    },
    {
      "cell_type": "markdown",
      "source": [
        "- html 형식의 문자열 내에 원하는 데이터가 존재\n",
        "- HTML Element에 원하는 데이터가 있다."
      ],
      "metadata": {
        "id": "7prPze0Q_-dH"
      }
    },
    {
      "cell_type": "code",
      "source": [
        "from bs4 import BeautifulSoup"
      ],
      "metadata": {
        "id": "A6chB9nhBddd"
      },
      "execution_count": null,
      "outputs": []
    },
    {
      "cell_type": "code",
      "source": [
        "soup = BeautifulSoup(html_str, 'html.parser')\n",
        "soup"
      ],
      "metadata": {
        "colab": {
          "base_uri": "https://localhost:8080/"
        },
        "id": "QQs7ElXXBtyt",
        "outputId": "da4d044c-edb1-43f9-cf86-1b8665a06267"
      },
      "execution_count": null,
      "outputs": [
        {
          "output_type": "execute_result",
          "data": {
            "text/plain": [
              "\n",
              "<html>\n",
              "<head>\n",
              "<title>안녕하세요</title>\n",
              "</head>\n",
              "<body>\n",
              "<div id=\"container\">\n",
              "<p class=\"p1\">hello</p>\n",
              "<p>Bye</p>\n",
              "</div>\n",
              "</body>\n",
              "</html>"
            ]
          },
          "metadata": {},
          "execution_count": 18
        }
      ]
    },
    {
      "cell_type": "code",
      "source": [
        "type(soup)"
      ],
      "metadata": {
        "colab": {
          "base_uri": "https://localhost:8080/"
        },
        "id": "icpO1r64CKsU",
        "outputId": "23aaa37e-25de-4a30-e6e8-d7c1f8ffa4ee"
      },
      "execution_count": null,
      "outputs": [
        {
          "output_type": "execute_result",
          "data": {
            "text/plain": [
              "bs4.BeautifulSoup"
            ]
          },
          "metadata": {},
          "execution_count": 19
        }
      ]
    },
    {
      "cell_type": "markdown",
      "source": [
        "# `find`\n",
        "- `find(\"태그명\", \"속성 값을 딕셔너리로 표현\")` : 한 개의 엘리먼트 찾기\n",
        "- `find_all(\"태그명\", \"속성 값을 딕셔너리로 표현\")` : 여러 개의 엘리먼트 찾기"
      ],
      "metadata": {
        "id": "WNCeMeIuDAXE"
      }
    },
    {
      "cell_type": "code",
      "source": [
        "container_div = soup.find(\"div\", {\"id\": \"container\"})\n",
        "container_div"
      ],
      "metadata": {
        "colab": {
          "base_uri": "https://localhost:8080/"
        },
        "id": "dK8zahddDXCk",
        "outputId": "4e249bd6-9763-400c-ec63-fac50843ab3a"
      },
      "execution_count": null,
      "outputs": [
        {
          "output_type": "execute_result",
          "data": {
            "text/plain": [
              "<div id=\"container\">\n",
              "<p class=\"p1\">hello</p>\n",
              "<p>Bye</p>\n",
              "</div>"
            ]
          },
          "metadata": {},
          "execution_count": 20
        }
      ]
    },
    {
      "cell_type": "code",
      "source": [
        "type(container_div)"
      ],
      "metadata": {
        "colab": {
          "base_uri": "https://localhost:8080/"
        },
        "id": "GvBSFabFDxQ0",
        "outputId": "fb38d2aa-dc9b-49bb-8e2b-3cf1a52cbf66"
      },
      "execution_count": null,
      "outputs": [
        {
          "output_type": "execute_result",
          "data": {
            "text/plain": [
              "bs4.element.Tag"
            ]
          },
          "metadata": {},
          "execution_count": 21
        }
      ]
    },
    {
      "cell_type": "code",
      "source": [
        "soup.find_all(\"p\")"
      ],
      "metadata": {
        "colab": {
          "base_uri": "https://localhost:8080/"
        },
        "id": "me9diETjDzS0",
        "outputId": "2f3b0dca-88dd-4ded-bb06-d150049afa7d"
      },
      "execution_count": null,
      "outputs": [
        {
          "output_type": "execute_result",
          "data": {
            "text/plain": [
              "[<p class=\"p1\">hello</p>, <p>Bye</p>]"
            ]
          },
          "metadata": {},
          "execution_count": 22
        }
      ]
    },
    {
      "cell_type": "code",
      "source": [
        "soup.find(\"p\")"
      ],
      "metadata": {
        "colab": {
          "base_uri": "https://localhost:8080/"
        },
        "id": "qKONrkuJEEql",
        "outputId": "123149fa-8046-4a01-be13-d06629f05a00"
      },
      "execution_count": null,
      "outputs": [
        {
          "output_type": "execute_result",
          "data": {
            "text/plain": [
              "<p class=\"p1\">hello</p>"
            ]
          },
          "metadata": {},
          "execution_count": 23
        }
      ]
    },
    {
      "cell_type": "code",
      "source": [
        "# 클래스가 p1인 p 엘리먼트를 모두 찾아보기\n",
        "soup.find_all('p', {'class': 'p1'})"
      ],
      "metadata": {
        "colab": {
          "base_uri": "https://localhost:8080/"
        },
        "id": "HHe9HK9lEPO8",
        "outputId": "fef6d0b5-944b-453e-c503-1ed31c46db2b"
      },
      "execution_count": null,
      "outputs": [
        {
          "output_type": "execute_result",
          "data": {
            "text/plain": [
              "[<p class=\"p1\">hello</p>]"
            ]
          },
          "metadata": {},
          "execution_count": 24
        }
      ]
    },
    {
      "cell_type": "code",
      "source": [
        "# 텍스트 추출\n",
        "#  - 반드시 element 객체인 상태에서만 가능\n",
        "soup.find('p', {'class': 'p1'}).text"
      ],
      "metadata": {
        "colab": {
          "base_uri": "https://localhost:8080/",
          "height": 36
        },
        "id": "YYFu_GypEuFj",
        "outputId": "63b15518-b6e2-4aa0-e410-83b82186abf5"
      },
      "execution_count": null,
      "outputs": [
        {
          "output_type": "execute_result",
          "data": {
            "text/plain": [
              "'hello'"
            ],
            "application/vnd.google.colaboratory.intrinsic+json": {
              "type": "string"
            }
          },
          "metadata": {},
          "execution_count": 25
        }
      ]
    },
    {
      "cell_type": "code",
      "source": [
        "# 두 개의 p 태그 내에 있는 텍스트 추출하기\n",
        "p_tags = soup.find_all(\"p\")\n",
        "print(p_tags[0].text)\n",
        "print(p_tags[1].text)"
      ],
      "metadata": {
        "colab": {
          "base_uri": "https://localhost:8080/"
        },
        "id": "Q4nAJr2SFIMU",
        "outputId": "8fcfee21-0a49-4481-84a4-170bb3388b3c"
      },
      "execution_count": null,
      "outputs": [
        {
          "output_type": "stream",
          "name": "stdout",
          "text": [
            "hello\n",
            "Bye\n"
          ]
        }
      ]
    },
    {
      "cell_type": "code",
      "source": [
        "for p in p_tags:\n",
        "  print(p.text)"
      ],
      "metadata": {
        "colab": {
          "base_uri": "https://localhost:8080/"
        },
        "id": "TW831sXaGKNK",
        "outputId": "244f495d-eb4a-43a0-fd0c-de3e0b1c078d"
      },
      "execution_count": null,
      "outputs": [
        {
          "output_type": "stream",
          "name": "stdout",
          "text": [
            "hello\n",
            "Bye\n"
          ]
        }
      ]
    },
    {
      "cell_type": "code",
      "source": [
        "# 엘리먼트에서 찾기\n",
        "container_div = soup.find(\"div\", {\"id\": \"container\"})\n",
        "container_div"
      ],
      "metadata": {
        "colab": {
          "base_uri": "https://localhost:8080/"
        },
        "id": "mXoUcZrfGW3x",
        "outputId": "eeb9cbf0-1e52-488a-e408-71d7e06bc30d"
      },
      "execution_count": null,
      "outputs": [
        {
          "output_type": "execute_result",
          "data": {
            "text/plain": [
              "<div id=\"container\">\n",
              "<p class=\"p1\">hello</p>\n",
              "<p>Bye</p>\n",
              "</div>"
            ]
          },
          "metadata": {},
          "execution_count": 30
        }
      ]
    },
    {
      "cell_type": "code",
      "source": [
        "container_div.find_all(\"p\")"
      ],
      "metadata": {
        "colab": {
          "base_uri": "https://localhost:8080/"
        },
        "id": "gWA0EgUgY17m",
        "outputId": "a76f277d-2048-43d0-e4b3-96153f6331f7"
      },
      "execution_count": null,
      "outputs": [
        {
          "output_type": "execute_result",
          "data": {
            "text/plain": [
              "[<p class=\"p1\">hello</p>, <p>Bye</p>]"
            ]
          },
          "metadata": {},
          "execution_count": 31
        }
      ]
    },
    {
      "cell_type": "markdown",
      "source": [
        "# 선택자(`Selector`)를 사용해서 찾기\n",
        "- `select(\"선택자\")` : 선택자에 의해 엘리먼트를 여러 개 선택\n",
        "- `select_one(\"선택자\")` : 선택자에 의해 엘리먼트를 한 개만 선택\n"
      ],
      "metadata": {
        "id": "lkmMwFm9Y56n"
      }
    },
    {
      "cell_type": "code",
      "source": [
        "soup.select_one(\"#container\")"
      ],
      "metadata": {
        "colab": {
          "base_uri": "https://localhost:8080/"
        },
        "id": "ITFPRIGuZV0O",
        "outputId": "116153cb-1b12-4622-ebdd-f6894f8c9924"
      },
      "execution_count": null,
      "outputs": [
        {
          "output_type": "execute_result",
          "data": {
            "text/plain": [
              "<div id=\"container\">\n",
              "<p class=\"p1\">hello</p>\n",
              "<p>Bye</p>\n",
              "</div>"
            ]
          },
          "metadata": {},
          "execution_count": 32
        }
      ]
    },
    {
      "cell_type": "code",
      "source": [
        "# select_one을 이용해 .p1 찾기\n",
        "soup.select_one(\"#container > .p1\")"
      ],
      "metadata": {
        "colab": {
          "base_uri": "https://localhost:8080/"
        },
        "id": "VbLbKrJEZjaF",
        "outputId": "dfd81ff8-9550-49ca-94b4-9f9e33b18751"
      },
      "execution_count": null,
      "outputs": [
        {
          "output_type": "execute_result",
          "data": {
            "text/plain": [
              "<p class=\"p1\">hello</p>"
            ]
          },
          "metadata": {},
          "execution_count": 33
        }
      ]
    },
    {
      "cell_type": "code",
      "source": [
        "container_div.select_one(\".p1\")"
      ],
      "metadata": {
        "colab": {
          "base_uri": "https://localhost:8080/"
        },
        "id": "wfyRN5AiaQCk",
        "outputId": "a33b732c-cb22-43c7-b6e9-56188dacfd59"
      },
      "execution_count": null,
      "outputs": [
        {
          "output_type": "execute_result",
          "data": {
            "text/plain": [
              "<p class=\"p1\">hello</p>"
            ]
          },
          "metadata": {},
          "execution_count": 35
        }
      ]
    },
    {
      "cell_type": "code",
      "source": [
        "soup.select(\"#container > p\")"
      ],
      "metadata": {
        "colab": {
          "base_uri": "https://localhost:8080/"
        },
        "id": "er-DPE7iaVVs",
        "outputId": "1008046e-30f7-4793-f6e4-d357e5aef9ba"
      },
      "execution_count": null,
      "outputs": [
        {
          "output_type": "execute_result",
          "data": {
            "text/plain": [
              "[<p class=\"p1\">hello</p>, <p>Bye</p>]"
            ]
          },
          "metadata": {},
          "execution_count": 36
        }
      ]
    },
    {
      "cell_type": "markdown",
      "source": [
        "# 텍스트, 속성 추출"
      ],
      "metadata": {
        "id": "NnUczEZfajAc"
      }
    },
    {
      "cell_type": "code",
      "source": [
        "# Bye만 추출해 보세요\n",
        "soup.select(\"#container > p\")[-1].text"
      ],
      "metadata": {
        "colab": {
          "base_uri": "https://localhost:8080/",
          "height": 36
        },
        "id": "WQJMfaGfbJpc",
        "outputId": "e4dd3186-5649-4b28-d321-0f66850a6d57"
      },
      "execution_count": null,
      "outputs": [
        {
          "output_type": "execute_result",
          "data": {
            "text/plain": [
              "'Bye'"
            ],
            "application/vnd.google.colaboratory.intrinsic+json": {
              "type": "string"
            }
          },
          "metadata": {},
          "execution_count": 39
        }
      ]
    },
    {
      "cell_type": "code",
      "source": [
        "# .p1을 가져오고 싶으면?\n",
        "soup.select_one(\"#container > .p1\").get(\"class\") # get(속성명)"
      ],
      "metadata": {
        "colab": {
          "base_uri": "https://localhost:8080/"
        },
        "id": "n1vRHGoJb7Rz",
        "outputId": "8f1e2b32-d989-4615-c044-9176c7a83848"
      },
      "execution_count": null,
      "outputs": [
        {
          "output_type": "execute_result",
          "data": {
            "text/plain": [
              "['p1']"
            ]
          },
          "metadata": {},
          "execution_count": 41
        }
      ]
    },
    {
      "cell_type": "code",
      "source": [
        "soup.select_one(\"#container > .p1\")['class']"
      ],
      "metadata": {
        "colab": {
          "base_uri": "https://localhost:8080/"
        },
        "id": "PmDd_TGcciPb",
        "outputId": "06f0031d-fafa-49a9-ba61-69b752a32390"
      },
      "execution_count": null,
      "outputs": [
        {
          "output_type": "execute_result",
          "data": {
            "text/plain": [
              "['p1']"
            ]
          },
          "metadata": {},
          "execution_count": 42
        }
      ]
    },
    {
      "cell_type": "markdown",
      "source": [
        "# 네이버 환율 정보 스크래이핑"
      ],
      "metadata": {
        "id": "U81Ec-YbcvDz"
      }
    },
    {
      "cell_type": "code",
      "source": [
        "import requests\n",
        "from bs4 import BeautifulSoup"
      ],
      "metadata": {
        "id": "rVZw6suqe0pr"
      },
      "execution_count": null,
      "outputs": []
    },
    {
      "cell_type": "code",
      "source": [
        "NAVER_FINANCE_URL = \"https://finance.naver.com/marketindex/\""
      ],
      "metadata": {
        "id": "8VfuSayke7wb"
      },
      "execution_count": null,
      "outputs": []
    },
    {
      "cell_type": "code",
      "source": [
        "response = requests.get(NAVER_FINANCE_URL)\n",
        "html_code = response.content\n",
        "soup = BeautifulSoup(html_code, 'html.parser')\n",
        "soup"
      ],
      "metadata": {
        "id": "t__oZ3D1fGSx"
      },
      "execution_count": null,
      "outputs": []
    },
    {
      "cell_type": "code",
      "source": [
        "# 스크래이핑 결과물을 데이터 프레임으로 만들어 주기"
      ],
      "metadata": {
        "id": "WG810Nn-fbpp"
      },
      "execution_count": null,
      "outputs": []
    },
    {
      "cell_type": "code",
      "source": [
        "exchange_list = soup.select_one(\"#exchangeList\")\n",
        "exchange_list"
      ],
      "metadata": {
        "id": "KXlo-oUPgBXZ"
      },
      "execution_count": null,
      "outputs": []
    },
    {
      "cell_type": "code",
      "source": [
        "fin_list = exchange_list.find_all(\"li\") # exchange_list.select(\"li\")\n",
        "len(fin_list)"
      ],
      "metadata": {
        "colab": {
          "base_uri": "https://localhost:8080/"
        },
        "id": "6WGsLWm8monk",
        "outputId": "34223419-6c75-4a1e-9283-34704958f0be"
      },
      "execution_count": null,
      "outputs": [
        {
          "output_type": "execute_result",
          "data": {
            "text/plain": [
              "4"
            ]
          },
          "metadata": {},
          "execution_count": 66
        }
      ]
    },
    {
      "cell_type": "code",
      "source": [
        "sample_li = fin_list[0]\n",
        "sample_li"
      ],
      "metadata": {
        "colab": {
          "base_uri": "https://localhost:8080/"
        },
        "id": "fAveRJ3SmqnE",
        "outputId": "4b4ca76e-3e74-45a4-9789-283e23fda6ab"
      },
      "execution_count": null,
      "outputs": [
        {
          "output_type": "execute_result",
          "data": {
            "text/plain": [
              "<li class=\"on\">\n",
              "<a class=\"head usd\" href=\"/marketindex/exchangeDetail.naver?marketindexCd=FX_USDKRW\" onclick=\"clickcr(this, 'fr1.usdt', '', '', event);\">\n",
              "<h3 class=\"h_lst\"><span class=\"blind\">미국 USD</span></h3>\n",
              "<div class=\"head_info point_dn\">\n",
              "<span class=\"value\">1,298.40</span>\n",
              "<span class=\"txt_krw\"><span class=\"blind\">원</span></span>\n",
              "<span class=\"change\"> 3.60</span>\n",
              "<span class=\"blind\">하락</span>\n",
              "</div>\n",
              "</a>\n",
              "<a class=\"graph_img\" href=\"/marketindex/exchangeDetail.naver?marketindexCd=FX_USDKRW\" onclick=\"clickcr(this, 'fr1.usdc', '', '', event);\">\n",
              "<img alt=\"\" height=\"153\" src=\"https://ssl.pstatic.net/imgfinance/chart/marketindex/FX_USDKRW.png\" width=\"295\"/>\n",
              "</a>\n",
              "<div class=\"graph_info\">\n",
              "<span class=\"time\">2023.03.28 13:30</span>\n",
              "<span class=\"source\">하나은행 기준</span>\n",
              "<span class=\"count\">고시회차<span class=\"num\">461</span>회</span>\n",
              "</div>\n",
              "</li>"
            ]
          },
          "metadata": {},
          "execution_count": 67
        }
      ]
    },
    {
      "cell_type": "code",
      "source": [
        "c_name = sample_li.find(\"h3\", {\"class\":\"h_lst\"}).text\n",
        "c_name"
      ],
      "metadata": {
        "colab": {
          "base_uri": "https://localhost:8080/",
          "height": 36
        },
        "id": "r5N8H156msHT",
        "outputId": "8d2f78d7-3712-4935-9980-2fb75518b0ff"
      },
      "execution_count": null,
      "outputs": [
        {
          "output_type": "execute_result",
          "data": {
            "text/plain": [
              "'미국 USD'"
            ],
            "application/vnd.google.colaboratory.intrinsic+json": {
              "type": "string"
            }
          },
          "metadata": {},
          "execution_count": 51
        }
      ]
    },
    {
      "cell_type": "code",
      "source": [
        "c_name = sample_li.select_one(\"h3.h_lst\").text\n",
        "c_name"
      ],
      "metadata": {
        "colab": {
          "base_uri": "https://localhost:8080/",
          "height": 36
        },
        "id": "corS_MV1mteE",
        "outputId": "6b31610e-ae70-45f6-b529-b3c76609c33a"
      },
      "execution_count": null,
      "outputs": [
        {
          "output_type": "execute_result",
          "data": {
            "text/plain": [
              "'미국 USD'"
            ],
            "application/vnd.google.colaboratory.intrinsic+json": {
              "type": "string"
            }
          },
          "metadata": {},
          "execution_count": 52
        }
      ]
    },
    {
      "cell_type": "code",
      "source": [
        "change = sample_li.select_one(\"span.change\").text\n",
        "change"
      ],
      "metadata": {
        "colab": {
          "base_uri": "https://localhost:8080/",
          "height": 36
        },
        "id": "z39N1mVvmutc",
        "outputId": "8dce10ab-98a0-46be-c57c-7848cc8a44b8"
      },
      "execution_count": null,
      "outputs": [
        {
          "output_type": "execute_result",
          "data": {
            "text/plain": [
              "' 3.60'"
            ],
            "application/vnd.google.colaboratory.intrinsic+json": {
              "type": "string"
            }
          },
          "metadata": {},
          "execution_count": 53
        }
      ]
    },
    {
      "cell_type": "code",
      "source": [
        "updown = sample_li.select(\"span.blind\")\n",
        "updown[-1].text"
      ],
      "metadata": {
        "colab": {
          "base_uri": "https://localhost:8080/",
          "height": 36
        },
        "id": "RqyFNTHqmw9c",
        "outputId": "60a2ea98-22d8-4916-9a4a-77e0109945e6"
      },
      "execution_count": null,
      "outputs": [
        {
          "output_type": "execute_result",
          "data": {
            "text/plain": [
              "'하락'"
            ],
            "application/vnd.google.colaboratory.intrinsic+json": {
              "type": "string"
            }
          },
          "metadata": {},
          "execution_count": 69
        }
      ]
    },
    {
      "cell_type": "code",
      "source": [
        "exchange_rate = sample_li.select_one(\"span.value\").text\n",
        "exchange_rate"
      ],
      "metadata": {
        "colab": {
          "base_uri": "https://localhost:8080/",
          "height": 36
        },
        "id": "_PiKV-p-my4L",
        "outputId": "06106fc1-f135-4f90-ab94-8365dd509bbc"
      },
      "execution_count": null,
      "outputs": [
        {
          "output_type": "execute_result",
          "data": {
            "text/plain": [
              "'1,298.40'"
            ],
            "application/vnd.google.colaboratory.intrinsic+json": {
              "type": "string"
            }
          },
          "metadata": {},
          "execution_count": 72
        }
      ]
    },
    {
      "cell_type": "code",
      "source": [
        "c_name_list = []\n",
        "exchange_rate_list = []\n",
        "change_list = []\n",
        "updown_list = []\n",
        "\n",
        "for fin in fin_list:\n",
        "  c_name = fin.select_one(\"h3.h_lst\").text.strip()\n",
        "  exchange_rate = float(fin.select_one(\"span.value\").text.replace(\",\", \"\"))\n",
        "  change = float(fin.select_one(\"span.change\").text.strip())\n",
        "  updown = fin.select(\"span.blind\")[-1].text.strip()\n",
        "\n",
        "  print(c_name, exchange_rate, change, updown)\n",
        "\n",
        "  c_name_list.append(c_name)\n",
        "  exchange_rate_list.append(exchange_rate)\n",
        "  change_list.append(change)\n",
        "  updown_list.append(updown)"
      ],
      "metadata": {
        "colab": {
          "base_uri": "https://localhost:8080/"
        },
        "id": "HOIhXi1rm1FE",
        "outputId": "1c0fb65b-f6a4-4f0d-dc80-b3d1c176325d"
      },
      "execution_count": null,
      "outputs": [
        {
          "output_type": "stream",
          "name": "stdout",
          "text": [
            "미국 USD 1298.4 3.6 하락\n",
            "일본 JPY(100엔) 993.61 2.33 상승\n",
            "유럽연합 EUR 1403.64 0.34 상승\n",
            "중국 CNY 188.64 0.35 하락\n"
          ]
        }
      ]
    },
    {
      "cell_type": "code",
      "source": [
        "fin_datas = {\n",
        "    \"국가\": c_name_list,\n",
        "    \"환율\": exchange_rate_list,\n",
        "    \"변동\": change_list,\n",
        "    \"등락\": updown_list\n",
        "}\n",
        "fin_datas"
      ],
      "metadata": {
        "colab": {
          "base_uri": "https://localhost:8080/"
        },
        "id": "Qavzs9AenArc",
        "outputId": "ce8560d5-1847-43f4-fb81-33ca666193dd"
      },
      "execution_count": null,
      "outputs": [
        {
          "output_type": "execute_result",
          "data": {
            "text/plain": [
              "{'국가': ['미국 USD', '일본 JPY(100엔)', '유럽연합 EUR', '중국 CNY'],\n",
              " '환율': [1298.4, 993.61, 1403.64, 188.64],\n",
              " '변동': [3.6, 2.33, 0.34, 0.35],\n",
              " '등락': ['하락', '상승', '상승', '하락']}"
            ]
          },
          "metadata": {},
          "execution_count": 63
        }
      ]
    },
    {
      "cell_type": "code",
      "source": [
        "import pandas as pd\n",
        "\n",
        "df_finance = pd.DataFrame(fin_datas)\n",
        "df_finance"
      ],
      "metadata": {
        "colab": {
          "base_uri": "https://localhost:8080/",
          "height": 174
        },
        "id": "Sri_jJnwnGQr",
        "outputId": "ddc0455f-d10a-4b66-a510-eb9af749066d"
      },
      "execution_count": null,
      "outputs": [
        {
          "output_type": "execute_result",
          "data": {
            "text/plain": [
              "             국가       환율    변동  등락\n",
              "0        미국 USD  1298.40  3.60  하락\n",
              "1  일본 JPY(100엔)   993.61  2.33  상승\n",
              "2      유럽연합 EUR  1403.64  0.34  상승\n",
              "3        중국 CNY   188.64  0.35  하락"
            ],
            "text/html": [
              "\n",
              "  <div id=\"df-af55bb81-b64c-497c-a26a-25970cd51c01\">\n",
              "    <div class=\"colab-df-container\">\n",
              "      <div>\n",
              "<style scoped>\n",
              "    .dataframe tbody tr th:only-of-type {\n",
              "        vertical-align: middle;\n",
              "    }\n",
              "\n",
              "    .dataframe tbody tr th {\n",
              "        vertical-align: top;\n",
              "    }\n",
              "\n",
              "    .dataframe thead th {\n",
              "        text-align: right;\n",
              "    }\n",
              "</style>\n",
              "<table border=\"1\" class=\"dataframe\">\n",
              "  <thead>\n",
              "    <tr style=\"text-align: right;\">\n",
              "      <th></th>\n",
              "      <th>국가</th>\n",
              "      <th>환율</th>\n",
              "      <th>변동</th>\n",
              "      <th>등락</th>\n",
              "    </tr>\n",
              "  </thead>\n",
              "  <tbody>\n",
              "    <tr>\n",
              "      <th>0</th>\n",
              "      <td>미국 USD</td>\n",
              "      <td>1298.40</td>\n",
              "      <td>3.60</td>\n",
              "      <td>하락</td>\n",
              "    </tr>\n",
              "    <tr>\n",
              "      <th>1</th>\n",
              "      <td>일본 JPY(100엔)</td>\n",
              "      <td>993.61</td>\n",
              "      <td>2.33</td>\n",
              "      <td>상승</td>\n",
              "    </tr>\n",
              "    <tr>\n",
              "      <th>2</th>\n",
              "      <td>유럽연합 EUR</td>\n",
              "      <td>1403.64</td>\n",
              "      <td>0.34</td>\n",
              "      <td>상승</td>\n",
              "    </tr>\n",
              "    <tr>\n",
              "      <th>3</th>\n",
              "      <td>중국 CNY</td>\n",
              "      <td>188.64</td>\n",
              "      <td>0.35</td>\n",
              "      <td>하락</td>\n",
              "    </tr>\n",
              "  </tbody>\n",
              "</table>\n",
              "</div>\n",
              "      <button class=\"colab-df-convert\" onclick=\"convertToInteractive('df-af55bb81-b64c-497c-a26a-25970cd51c01')\"\n",
              "              title=\"Convert this dataframe to an interactive table.\"\n",
              "              style=\"display:none;\">\n",
              "        \n",
              "  <svg xmlns=\"http://www.w3.org/2000/svg\" height=\"24px\"viewBox=\"0 0 24 24\"\n",
              "       width=\"24px\">\n",
              "    <path d=\"M0 0h24v24H0V0z\" fill=\"none\"/>\n",
              "    <path d=\"M18.56 5.44l.94 2.06.94-2.06 2.06-.94-2.06-.94-.94-2.06-.94 2.06-2.06.94zm-11 1L8.5 8.5l.94-2.06 2.06-.94-2.06-.94L8.5 2.5l-.94 2.06-2.06.94zm10 10l.94 2.06.94-2.06 2.06-.94-2.06-.94-.94-2.06-.94 2.06-2.06.94z\"/><path d=\"M17.41 7.96l-1.37-1.37c-.4-.4-.92-.59-1.43-.59-.52 0-1.04.2-1.43.59L10.3 9.45l-7.72 7.72c-.78.78-.78 2.05 0 2.83L4 21.41c.39.39.9.59 1.41.59.51 0 1.02-.2 1.41-.59l7.78-7.78 2.81-2.81c.8-.78.8-2.07 0-2.86zM5.41 20L4 18.59l7.72-7.72 1.47 1.35L5.41 20z\"/>\n",
              "  </svg>\n",
              "      </button>\n",
              "      \n",
              "  <style>\n",
              "    .colab-df-container {\n",
              "      display:flex;\n",
              "      flex-wrap:wrap;\n",
              "      gap: 12px;\n",
              "    }\n",
              "\n",
              "    .colab-df-convert {\n",
              "      background-color: #E8F0FE;\n",
              "      border: none;\n",
              "      border-radius: 50%;\n",
              "      cursor: pointer;\n",
              "      display: none;\n",
              "      fill: #1967D2;\n",
              "      height: 32px;\n",
              "      padding: 0 0 0 0;\n",
              "      width: 32px;\n",
              "    }\n",
              "\n",
              "    .colab-df-convert:hover {\n",
              "      background-color: #E2EBFA;\n",
              "      box-shadow: 0px 1px 2px rgba(60, 64, 67, 0.3), 0px 1px 3px 1px rgba(60, 64, 67, 0.15);\n",
              "      fill: #174EA6;\n",
              "    }\n",
              "\n",
              "    [theme=dark] .colab-df-convert {\n",
              "      background-color: #3B4455;\n",
              "      fill: #D2E3FC;\n",
              "    }\n",
              "\n",
              "    [theme=dark] .colab-df-convert:hover {\n",
              "      background-color: #434B5C;\n",
              "      box-shadow: 0px 1px 3px 1px rgba(0, 0, 0, 0.15);\n",
              "      filter: drop-shadow(0px 1px 2px rgba(0, 0, 0, 0.3));\n",
              "      fill: #FFFFFF;\n",
              "    }\n",
              "  </style>\n",
              "\n",
              "      <script>\n",
              "        const buttonEl =\n",
              "          document.querySelector('#df-af55bb81-b64c-497c-a26a-25970cd51c01 button.colab-df-convert');\n",
              "        buttonEl.style.display =\n",
              "          google.colab.kernel.accessAllowed ? 'block' : 'none';\n",
              "\n",
              "        async function convertToInteractive(key) {\n",
              "          const element = document.querySelector('#df-af55bb81-b64c-497c-a26a-25970cd51c01');\n",
              "          const dataTable =\n",
              "            await google.colab.kernel.invokeFunction('convertToInteractive',\n",
              "                                                     [key], {});\n",
              "          if (!dataTable) return;\n",
              "\n",
              "          const docLinkHtml = 'Like what you see? Visit the ' +\n",
              "            '<a target=\"_blank\" href=https://colab.research.google.com/notebooks/data_table.ipynb>data table notebook</a>'\n",
              "            + ' to learn more about interactive tables.';\n",
              "          element.innerHTML = '';\n",
              "          dataTable['output_type'] = 'display_data';\n",
              "          await google.colab.output.renderOutput(dataTable, element);\n",
              "          const docLink = document.createElement('div');\n",
              "          docLink.innerHTML = docLinkHtml;\n",
              "          element.appendChild(docLink);\n",
              "        }\n",
              "      </script>\n",
              "    </div>\n",
              "  </div>\n",
              "  "
            ]
          },
          "metadata": {},
          "execution_count": 64
        }
      ]
    },
    {
      "cell_type": "code",
      "source": [],
      "metadata": {
        "id": "szW2qqNDnINL"
      },
      "execution_count": null,
      "outputs": []
    }
  ]
}